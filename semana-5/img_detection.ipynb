{
 "cells": [
  {
   "cell_type": "code",
   "execution_count": 4,
   "metadata": {},
   "outputs": [],
   "source": [
    "import cv2 as cv"
   ]
  },
  {
   "cell_type": "code",
   "execution_count": 5,
   "metadata": {},
   "outputs": [],
   "source": [
    "# Carregar imagem\n",
    "img = cv.imread('photos/dog.jpg')\n",
    "\n",
    "# Transformar a cor da imagem para escalas de cinza de 0 a 255\n",
    "dog_gray_scale = cv.cvtColor(img, cv.COLOR_BGR2GRAY)"
   ]
  },
  {
   "cell_type": "code",
   "execution_count": 6,
   "metadata": {},
   "outputs": [],
   "source": [
    "# Redimensionar a imagem\n",
    "resize_img = cv.resize(img, (300, 300))\n",
    "\n",
    "# Redimensionar a imagem cinza\n",
    "resize_gray_img = cv.resize(dog_gray_scale, (300, 300))\n"
   ]
  },
  {
   "cell_type": "code",
   "execution_count": 7,
   "metadata": {},
   "outputs": [],
   "source": [
    "# Exibe a imagem padrão \n",
    "cv.imshow('Dog', img)\n",
    "\n",
    "# Exibe a imagem em escalas de cinza\n",
    "cv.imshow('Gray_Dog', dog_gray_scale )\n",
    "\n",
    "# Exibe a imagem redimensionada \n",
    "cv.imshow('Resize Dog', resize_img)\n",
    "\n",
    "# Exibe a imagem cinza redimensionada\n",
    "cv.imshow('Resize Gray Dog', resize_gray_img)\n",
    "\n",
    "# Espera infinitamente por uma tecla\n",
    "cv.waitKey(0)\n",
    "cv.destroyAllWindows()"
   ]
  },
  {
   "cell_type": "code",
   "execution_count": null,
   "metadata": {},
   "outputs": [],
   "source": []
  }
 ],
 "metadata": {
  "kernelspec": {
   "display_name": "Python 3",
   "language": "python",
   "name": "python3"
  },
  "language_info": {
   "codemirror_mode": {
    "name": "ipython",
    "version": 3
   },
   "file_extension": ".py",
   "mimetype": "text/x-python",
   "name": "python",
   "nbconvert_exporter": "python",
   "pygments_lexer": "ipython3",
   "version": "3.11.3"
  },
  "orig_nbformat": 4
 },
 "nbformat": 4,
 "nbformat_minor": 2
}
